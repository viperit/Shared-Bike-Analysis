{
 "cells": [
  {
   "cell_type": "code",
   "execution_count": null,
   "metadata": {
    "collapsed": true
   },
   "outputs": [],
   "source": [
    "import csv\n",
    "import numpy as np\n",
    "import networkx as nx\n",
    "import math\n",
    "from scipy.stats import mode\n",
    "import function\n",
    "import pickle"
   ]
  },
  {
   "cell_type": "markdown",
   "metadata": {},
   "source": [
    "# man_dis,lat_different,long_different,direction"
   ]
  },
  {
   "cell_type": "code",
   "execution_count": null,
   "metadata": {},
   "outputs": [],
   "source": [
    "man_dis_dic = {}\n",
    "direction_dic = {}\n",
    "lat_diff_dic = {}\n",
    "long_diff_dic = {}\n",
    "user_show_count_dic = {}\n",
    "\n",
    "i = 0\n",
    "csv_reader = csv.reader(open('./data/train_hard3.csv', encoding='utf-8'))\n",
    "for row in csv_reader:\n",
    "    i+=1\n",
    "    if i == 1:\n",
    "        print(row[9],row[18],row[19],row[20],row[21])\n",
    "        continue\n",
    "        \n",
    "    user = row[1]\n",
    "    start = row[5]\n",
    "    end = row[6]\n",
    "        \n",
    "    man_dis = row[9]\n",
    "    direction = row[18]\n",
    "    lat_diff = row[19]\n",
    "    long_diff = row[20]\n",
    "    user_show_count = row[21]\n",
    "    \n",
    "    if start not in man_dis_dic:\n",
    "        man_dis_dic[start] = {}\n",
    "        man_dis_dic[start][end] = man_dis\n",
    "    else:\n",
    "        if end not in man_dis_dic[start]:\n",
    "            man_dis_dic[start][end] = man_dis\n",
    "    \n",
    "    if start not in direction_dic:\n",
    "        direction_dic[start] = {}\n",
    "        direction_dic[start][end] = direction\n",
    "    else:\n",
    "        if end not in direction_dic[start]:\n",
    "            direction_dic[start][end] = direction\n",
    "            \n",
    "    if start not in lat_diff_dic:\n",
    "        lat_diff_dic[start] = {}\n",
    "        lat_diff_dic[start][end] = lat_diff\n",
    "    else:\n",
    "        if end not in lat_diff_dic[start]:\n",
    "            lat_diff_dic[start][end] = lat_diff\n",
    "            \n",
    "    if start not in long_diff_dic:\n",
    "        long_diff_dic[start] = {}\n",
    "        long_diff_dic[start][end] = long_diff\n",
    "    else:\n",
    "        if end not in long_diff_dic[start]:\n",
    "            long_diff_dic[start][end] = long_diff\n",
    "            \n",
    "    if user not in user_show_count_dic:\n",
    "        user_show_count_dic[user] = user_show_count\n",
    "    \n",
    "    \n",
    "    "
   ]
  },
  {
   "cell_type": "code",
   "execution_count": null,
   "metadata": {
    "collapsed": true
   },
   "outputs": [],
   "source": [
    "  \n",
    "with open('./data/temp/Incomplete_caching/man_dis_dic','wb+') as f:\n",
    "    pickle.dump(man_dis_dic, f, pickle.HIGHEST_PROTOCOL)\n",
    "    \n",
    "with open('./data/temp/Incomplete_caching/direction_dic','wb+') as f:\n",
    "    pickle.dump(direction_dic, f, pickle.HIGHEST_PROTOCOL)\n",
    "\n",
    "\n",
    "with open('./data/temp/Incomplete_caching/lat_diff_dic','wb+') as f:\n",
    "    pickle.dump(lat_diff_dic, f, pickle.HIGHEST_PROTOCOL)\n",
    "    \n",
    "with open('./data/temp/Incomplete_caching/long_diff_dic','wb+') as f:\n",
    "    pickle.dump(long_diff_dic, f, pickle.HIGHEST_PROTOCOL)\n",
    "    \n",
    "with open('./data/temp/Incomplete_caching/user_show_count_dic','wb+') as f:\n",
    "    pickle.dump(user_show_count_dic, f, pickle.HIGHEST_PROTOCOL)\n",
    "    \n",
    "\n"
   ]
  },
  {
   "cell_type": "markdown",
   "metadata": {},
   "source": [
    "## 生成用户的使用序列"
   ]
  },
  {
   "cell_type": "code",
   "execution_count": null,
   "metadata": {
    "collapsed": true
   },
   "outputs": [],
   "source": [
    "import pandas as pd"
   ]
  },
  {
   "cell_type": "code",
   "execution_count": null,
   "metadata": {
    "collapsed": true
   },
   "outputs": [],
   "source": [
    "PATH= './IJCAI/'\n",
    "df_train = pd.read_csv('./data/train_hard.csv')\n",
    "df_test = pd.read_csv('./data/test_hard.csv')"
   ]
  },
  {
   "cell_type": "code",
   "execution_count": null,
   "metadata": {},
   "outputs": [],
   "source": [
    "length = len(df_train)\n",
    "df_merge = pd.concat([df_train, df_test]).reset_index()\n",
    "df_merge.drop(['index'],axis=1,inplace=True)"
   ]
  },
  {
   "cell_type": "code",
   "execution_count": null,
   "metadata": {},
   "outputs": [],
   "source": [
    "df_merge = df_merge.iloc[df_merge.starttime.sort_values().index]"
   ]
  },
  {
   "cell_type": "code",
   "execution_count": null,
   "metadata": {},
   "outputs": [],
   "source": [
    "user_used_time = {}\n",
    "\n",
    "for user in df_merge.userid.value_counts().index:\n",
    "    user_used_time[user] = df_merge[df_merge.userid == user]\n"
   ]
  },
  {
   "cell_type": "code",
   "execution_count": null,
   "metadata": {
    "collapsed": true
   },
   "outputs": [],
   "source": [
    "with open('./data/temp/Incomplete_caching/user_used_time','wb+') as f:\n",
    "    pickle.dump(user_used_time, f, pickle.HIGHEST_PROTOCOL)"
   ]
  },
  {
   "cell_type": "markdown",
   "metadata": {},
   "source": [
    "# part1"
   ]
  },
  {
   "cell_type": "markdown",
   "metadata": {},
   "source": [
    "## user_to_time,user_to_geofly_time\n"
   ]
  },
  {
   "cell_type": "code",
   "execution_count": null,
   "metadata": {
    "collapsed": true
   },
   "outputs": [],
   "source": [
    "def get_user_end_hour_dic(path):\n",
    "    \n",
    "    user_hour_dic = {}\n",
    "\n",
    "    i = 0\n",
    "    csv_reader = csv.reader(open(path, encoding='utf-8'))\n",
    "    for row in csv_reader:\n",
    "        i+=1\n",
    "        if i == 1:\n",
    "            continue\n",
    "        \n",
    "        user = row[1]\n",
    "        end = row[6]\n",
    "        hour = row[7]\n",
    "        \n",
    "        if user not in user_hour_dic:\n",
    "            user_hour_dic[user] = {}\n",
    "            user_hour_dic[user][end] = set()\n",
    "            user_hour_dic[user][end].add(int(hour))\n",
    "        else:\n",
    "            if end not in user_hour_dic[user]:\n",
    "                user_hour_dic[user][end] = set()\n",
    "                user_hour_dic[user][end].add(int(hour))\n",
    "            else:\n",
    "                if int(hour) not in user_hour_dic[user][end]:\n",
    "                    user_hour_dic[user][end].add(int(hour))\n",
    "    return user_hour_dic"
   ]
  },
  {
   "cell_type": "code",
   "execution_count": null,
   "metadata": {
    "collapsed": true
   },
   "outputs": [],
   "source": [
    "user_to_time = get_user_end_hour_dic('./data/train_hard.csv')\n",
    "\n",
    "user_to_geofly_time = get_user_end_hour_dic('./data/train_end_geofly.csv')"
   ]
  },
  {
   "cell_type": "code",
   "execution_count": null,
   "metadata": {
    "collapsed": true
   },
   "outputs": [],
   "source": [
    "with open('./data/temp/Incomplete_caching/user_to_time','wb+') as f:\n",
    "    pickle.dump(user_to_time, f, pickle.HIGHEST_PROTOCOL)\n",
    "    \n",
    "with open('./data/temp/Incomplete_caching/user_to_geofly_time','wb+') as f:\n",
    "    pickle.dump(user_to_geofly_time, f, pickle.HIGHEST_PROTOCOL)\n"
   ]
  },
  {
   "cell_type": "markdown",
   "metadata": {},
   "source": [
    "## csv append"
   ]
  },
  {
   "cell_type": "code",
   "execution_count": null,
   "metadata": {
    "collapsed": true
   },
   "outputs": [],
   "source": [
    "def user_to_min_time_diff(user_hour_dic_path,user_hour_dic_path_geofly,append_path):\n",
    "    user_hour_dic = get_user_end_hour_dic(user_hour_dic_path)\n",
    "    user_hour_dic_geofly = get_user_end_hour_dic(user_hour_dic_path_geofly)\n",
    "    \n",
    "    with open(output_path, 'w', newline='') as csv_file:\n",
    "        writer = csv.writer(csv_file)\n",
    "        \n",
    "        i = 0\n",
    "        csv_reader = csv.reader(open(append_path, encoding='utf-8'))\n",
    "        for row in csv_reader:\n",
    "            i+=1\n",
    "            if i == 1:\n",
    "                row.append('user_to_end_min_time_diff')\n",
    "                row.append('user_to_end_geofly_min_time_diff')\n",
    "                row.append('user_to_start_min_time_diff')\n",
    "                row.append('user_to_start_geofly_min_time_diff')\n",
    "                writer.writerow(row)\n",
    "                continue\n",
    "            user = row[1]\n",
    "            start = row[5]\n",
    "            end = row[6]\n",
    "            hour = row[7]\n",
    "\n",
    "            if user in user_hour_dic and end in user_hour_dic[user]:# 用户去此终点的时间与历史时间的最小时间差\n",
    "                mindiff = 100\n",
    "                for x in user_hour_dic[user][end]:\n",
    "                    if abs(x - int(hour)) < mindiff:\n",
    "                        mindiff = abs(x - int(hour))\n",
    "                row.append(mindiff)\n",
    "            else:\n",
    "                row.append('')\n",
    "                \n",
    "            # 用户去此终点（扩大9倍）的时间与历史时间的最小时间差\n",
    "            if user in user_hour_dic_geofly and end in user_hour_dic_geofly[user]:\n",
    "                mindiff = 100\n",
    "                for x in user_hour_dic_geofly[user][end]:\n",
    "                    if abs(x - int(hour)) < mindiff:\n",
    "                        mindiff = abs(x - int(hour))\n",
    "                row.append(mindiff)\n",
    "            else:\n",
    "                row.append('')\n",
    "                \n",
    "                \n",
    "            if user in user_hour_dic and start in user_hour_dic[user]:# 用户去此起点的时间与历史时间的最小时间差\n",
    "                mindiff = 100\n",
    "                for x in user_hour_dic[user][start]:\n",
    "                    if abs(x - int(hour)) < mindiff:\n",
    "                        mindiff = abs(x - int(hour))\n",
    "                row.append(mindiff)\n",
    "            else:\n",
    "                row.append('')\n",
    "                \n",
    "            # 用户去此起点（扩大9倍）的时间与历史时间的最小时间差\n",
    "            if user in user_hour_dic_geofly and start in user_hour_dic_geofly[user]:\n",
    "                mindiff = 100\n",
    "                for x in user_hour_dic_geofly[user][start]:\n",
    "                    if abs(x - int(hour)) < mindiff:\n",
    "                        mindiff = abs(x - int(hour))\n",
    "                row.append(mindiff)\n",
    "            else:\n",
    "                row.append('')\n",
    "    \n",
    "        writer.writerow(row)\n",
    "    "
   ]
  },
  {
   "cell_type": "markdown",
   "metadata": {},
   "source": [
    "## user_from_time,user_from_geofly_time\n"
   ]
  },
  {
   "cell_type": "code",
   "execution_count": null,
   "metadata": {
    "collapsed": true
   },
   "outputs": [],
   "source": [
    "def get_user_start_hour_dic(path):\n",
    "    \n",
    "    user_hour_dic = {}\n",
    "\n",
    "    i = 0\n",
    "    csv_reader = csv.reader(open(path, encoding='utf-8'))\n",
    "    for row in csv_reader:\n",
    "        i+=1\n",
    "        if i == 1:\n",
    "            continue\n",
    "        \n",
    "        user = row[1]\n",
    "        start = row[5]\n",
    "        hour = row[7]\n",
    "        \n",
    "        if user not in user_hour_dic:\n",
    "            user_hour_dic[user] = {}\n",
    "            user_hour_dic[user][start] = set()\n",
    "            user_hour_dic[user][start].add(int(hour))\n",
    "        else:\n",
    "            if start not in user_hour_dic[user]:\n",
    "                user_hour_dic[user][start] = set()\n",
    "                user_hour_dic[user][start].add(int(hour))\n",
    "            else:\n",
    "                if int(hour) not in user_hour_dic[user][start]:\n",
    "                    user_hour_dic[user][start].add(int(hour))\n",
    "    return user_hour_dic"
   ]
  },
  {
   "cell_type": "code",
   "execution_count": null,
   "metadata": {
    "collapsed": true
   },
   "outputs": [],
   "source": [
    "user_from_time = get_user_start_hour_dic('./data/train_hard.csv')\n",
    "\n",
    "user_from_geofly_time = get_user_start_hour_dic('./data/train_start_geofly.csv')"
   ]
  },
  {
   "cell_type": "code",
   "execution_count": null,
   "metadata": {
    "collapsed": true
   },
   "outputs": [],
   "source": [
    "with open('./data/temp/Incomplete_caching/user_from_time','wb+') as f:\n",
    "    pickle.dump(user_from_time, f, pickle.HIGHEST_PROTOCOL)\n",
    "    \n",
    "with open('./data/temp/Incomplete_caching/user_from_geofly_time','wb+') as f:\n",
    "    pickle.dump(user_from_geofly_time, f, pickle.HIGHEST_PROTOCOL)\n",
    "\n"
   ]
  },
  {
   "cell_type": "markdown",
   "metadata": {},
   "source": [
    "## csv append"
   ]
  },
  {
   "cell_type": "code",
   "execution_count": null,
   "metadata": {
    "collapsed": true
   },
   "outputs": [],
   "source": [
    "def user_to_min_time_diff(user_hour_dic_path,user_hour_dic_path_geofly,append_path,output_path):\n",
    "    user_hour_dic = get_user_start_hour_dic(user_hour_dic_path)\n",
    "    user_hour_dic_geofly = get_user_start_hour_dic(user_hour_dic_path_geofly)\n",
    "    \n",
    "    with open(output_path, 'w', newline='') as csv_file:\n",
    "        writer = csv.writer(csv_file)\n",
    "        \n",
    "        i = 0\n",
    "        csv_reader = csv.reader(open(append_path, encoding='utf-8'))\n",
    "        for row in csv_reader:\n",
    "            i+=1\n",
    "            if i == 1:\n",
    "                row.append('user_from_end_min_time_diff')\n",
    "                row.append('user_from_end_geofly_min_time_diff')\n",
    "                row.append('user_from_start_min_time_diff')\n",
    "                row.append('user_from_start_geofly_min_time_diff')\n",
    "                writer.writerow(row)\n",
    "                continue\n",
    "            user = row[1]\n",
    "            start = row[5]\n",
    "            end = row[6]\n",
    "            hour = row[7]\n",
    "\n",
    "            if user in user_hour_dic and end in user_hour_dic[user]:# 用户从此终点出发的时间与历史时间的最小时间差\n",
    "                mindiff = 100\n",
    "                for x in user_hour_dic[user][end]:\n",
    "                    if abs(x - int(hour)) < mindiff:\n",
    "                        mindiff = abs(x - int(hour))\n",
    "                row.append(mindiff)\n",
    "            else:\n",
    "                row.append('')\n",
    "                \n",
    "            # 用户从此终点出发（扩大9倍）的时间与历史时间的最小时间差\n",
    "            if user in user_hour_dic_geofly and end in user_hour_dic_geofly[user]:\n",
    "                mindiff = 100\n",
    "                for x in user_hour_dic_geofly[user][end]:\n",
    "                    if abs(x - int(hour)) < mindiff:\n",
    "                        mindiff = abs(x - int(hour))\n",
    "                row.append(mindiff)\n",
    "            else:\n",
    "                row.append('')\n",
    "                \n",
    "                \n",
    "            if user in user_hour_dic and start in user_hour_dic[user]:# 用户从此起点的时间与历史时间的最小时间差\n",
    "                mindiff = 100\n",
    "                for x in user_hour_dic[user][start]:\n",
    "                    if abs(x - int(hour)) < mindiff:\n",
    "                        mindiff = abs(x - int(hour))\n",
    "                row.append(mindiff)\n",
    "            else:\n",
    "                row.append('')\n",
    "                \n",
    "            # 用户从此起点（扩大9倍）的时间与历史时间的最小时间差\n",
    "            if user in user_hour_dic_geofly and start in user_hour_dic_geofly[user]:\n",
    "                mindiff = 100\n",
    "                for x in user_hour_dic_geofly[user][start]:\n",
    "                    if abs(x - int(hour)) < mindiff:\n",
    "                        mindiff = abs(x - int(hour))\n",
    "                row.append(mindiff)\n",
    "            else:\n",
    "                row.append('')\n",
    "    \n",
    "        writer.writerow(row)\n",
    "    "
   ]
  },
  {
   "cell_type": "markdown",
   "metadata": {},
   "source": [
    "# part2"
   ]
  },
  {
   "cell_type": "code",
   "execution_count": null,
   "metadata": {
    "collapsed": true
   },
   "outputs": [],
   "source": [
    "def get_user_start_to_end_hour_dic(path):\n",
    "    user_hour_dic = {}\n",
    "\n",
    "    i = 0\n",
    "    csv_reader = csv.reader(open(path, encoding='utf-8'))\n",
    "    for row in csv_reader:\n",
    "        i+=1\n",
    "        if i == 1:\n",
    "            continue\n",
    "        \n",
    "        user = row[1]\n",
    "        start = row[5]\n",
    "        end = row[6]\n",
    "        hour = row[7]\n",
    "            \n",
    "        \n",
    "        if user not in user_hour_dic:\n",
    "            user_hour_dic[user] = {}\n",
    "            user_hour_dic[user][start] = {}\n",
    "            user_hour_dic[user][start][end] = set()\n",
    "            user_hour_dic[user][start][end].add(int(hour))\n",
    "        else:\n",
    "            if start not in user_hour_dic[user]:\n",
    "                user_hour_dic[user][start] = {}\n",
    "                user_hour_dic[user][start][end] = set()\n",
    "                user_hour_dic[user][start][end].add(int(hour))\n",
    "            else:\n",
    "\n",
    "                if end not in user_hour_dic[user][start]:\n",
    "                    user_hour_dic[user][start][end] = set()\n",
    "                    user_hour_dic[user][start][end].add(int(hour))\n",
    "                else:\n",
    "                    user_hour_dic[user][start][end].add(int(hour))\n",
    "    return user_hour_dic"
   ]
  },
  {
   "cell_type": "code",
   "execution_count": null,
   "metadata": {
    "collapsed": true
   },
   "outputs": [],
   "source": [
    "user_start_to_end_time = get_user_start_to_end_hour_dic('./data/train_hard.csv')"
   ]
  },
  {
   "cell_type": "code",
   "execution_count": null,
   "metadata": {
    "collapsed": true
   },
   "outputs": [],
   "source": [
    "user_start_to_end_geofly_time = get_user_start_to_end_hour_dic('./data/train_end_geofly.csv')"
   ]
  },
  {
   "cell_type": "code",
   "execution_count": null,
   "metadata": {
    "collapsed": true
   },
   "outputs": [],
   "source": [
    "user_start_geofly_to_end_time = get_user_start_to_end_hour_dic('./data/train_start_geofly.csv')"
   ]
  },
  {
   "cell_type": "code",
   "execution_count": null,
   "metadata": {
    "collapsed": true
   },
   "outputs": [],
   "source": [
    "with open('./data/temp/Incomplete_caching/user_start_to_end_time','wb+') as f:\n",
    "    pickle.dump(user_start_to_end_time, f, pickle.HIGHEST_PROTOCOL)\n",
    "    \n",
    "with open('./data/temp/Incomplete_caching/user_start_to_end_geofly_time','wb+') as f:\n",
    "    pickle.dump(user_start_to_end_geofly_time, f, pickle.HIGHEST_PROTOCOL)\n",
    "\n",
    "\n",
    "with open('./data/temp/Incomplete_caching/user_start_geofly_to_end_time','wb+') as f:\n",
    "    pickle.dump(user_start_geofly_to_end_time, f, pickle.HIGHEST_PROTOCOL)\n",
    "  "
   ]
  },
  {
   "cell_type": "markdown",
   "metadata": {
    "collapsed": true
   },
   "source": [
    "# 方向"
   ]
  },
  {
   "cell_type": "code",
   "execution_count": null,
   "metadata": {
    "collapsed": true
   },
   "outputs": [],
   "source": [
    "def get_direction(path):\n",
    "    with open(\"./data/train_hard1.csv\", 'w', newline='') as csv_file:\n",
    "        \n",
    "        #test_hard1\n",
    "        writer = csv.writer(csv_file)\n",
    "        i = 0\n",
    "        csv_reader = csv.reader(open(path, encoding='utf-8'))\n",
    "        for row in csv_reader:\n",
    "            i+=1\n",
    "            if i == 1:\n",
    "                row.append('direction')\n",
    "                writer.writerow(row)\n",
    "                continue\n",
    "            start = row[5]\n",
    "            end = row[6]\n",
    "\n",
    "            direction = function.getDegree(start,end)\n",
    "            \n",
    "            if direction < 22.5 or 337.5 <= direction:\n",
    "                direction = 0\n",
    "            elif 22.5 <= direction and direction < 67.5:\n",
    "                direction = 1\n",
    "            elif 67.5 <= direction and direction < 112.5:\n",
    "                direction = 2\n",
    "            elif 112.5 <= direction and direction < 157.5:\n",
    "                direction = 3\n",
    "            elif 157.5 <= direction and direction < 202.5:\n",
    "                direction = 4\n",
    "            elif 202.5 <= direction and direction < 247.5:\n",
    "                direction = 5\n",
    "            elif 247.5 <= direction and direction < 292.5:\n",
    "                direction = 6\n",
    "            elif 292.5 <= direction and direction < 337.5:\n",
    "                direction = 7\n",
    "                \n",
    "            row.append(direction)\n",
    "            writer.writerow(row)"
   ]
  },
  {
   "cell_type": "code",
   "execution_count": null,
   "metadata": {
    "collapsed": true
   },
   "outputs": [],
   "source": [
    "get_direction('./data/train_hard.csv')"
   ]
  },
  {
   "cell_type": "markdown",
   "metadata": {},
   "source": [
    "# 经度差和纬度差"
   ]
  },
  {
   "cell_type": "code",
   "execution_count": null,
   "metadata": {},
   "outputs": [],
   "source": [
    "function.decode_exactly('wxsws4')"
   ]
  },
  {
   "cell_type": "code",
   "execution_count": null,
   "metadata": {
    "collapsed": true
   },
   "outputs": [],
   "source": [
    "def creat_long_lat_diff(path):\n",
    "    with open(\"./data/train_hard2.csv\", 'w', newline='') as csv_file:\n",
    "        \n",
    "        #test_hard1\n",
    "        writer = csv.writer(csv_file)\n",
    "        i = 0\n",
    "        csv_reader = csv.reader(open(path, encoding='utf-8'))\n",
    "        for row in csv_reader:\n",
    "            i+=1\n",
    "            if i == 1:\n",
    "                row.append('lat_diff')\n",
    "                row.append('long_diff')\n",
    "                writer.writerow(row)\n",
    "                continue\n",
    "            start = row[5]\n",
    "            end = row[6]\n",
    "            \n",
    "            lat1 = function.decode_exactly(start)[0]\n",
    "            long1 = function.decode_exactly(start)[1]\n",
    "            \n",
    "            lat2 = function.decode_exactly(end)[0]\n",
    "            long2 = function.decode_exactly(end)[1]\n",
    "\n",
    "            \n",
    "            row.append(abs(lat1 - lat2))\n",
    "            row.append(abs(long1 - long2))\n",
    "            writer.writerow(row)"
   ]
  },
  {
   "cell_type": "code",
   "execution_count": null,
   "metadata": {
    "collapsed": true
   },
   "outputs": [],
   "source": [
    "creat_long_lat_diff('./data/train_hard1.csv')"
   ]
  },
  {
   "cell_type": "code",
   "execution_count": null,
   "metadata": {
    "collapsed": true
   },
   "outputs": [],
   "source": []
  }
 ],
 "metadata": {
  "kernelspec": {
   "display_name": "Python 3",
   "language": "python",
   "name": "python3"
  },
  "language_info": {
   "codemirror_mode": {
    "name": "ipython",
    "version": 3
   },
   "file_extension": ".py",
   "mimetype": "text/x-python",
   "name": "python",
   "nbconvert_exporter": "python",
   "pygments_lexer": "ipython3",
   "version": "3.6.2"
  }
 },
 "nbformat": 4,
 "nbformat_minor": 2
}
