{
 "cells": [
  {
   "cell_type": "code",
   "execution_count": 2,
   "metadata": {
    "collapsed": true
   },
   "outputs": [],
   "source": [
    "import csv\n",
    "import numpy as np\n",
    "import networkx as nx\n",
    "import math\n",
    "from scipy.stats import mode\n",
    "import function\n",
    "import pickle\n",
    "from sklearn.cluster import KMeans\n",
    "from scipy.spatial.distance import cdist  "
   ]
  },
  {
   "cell_type": "markdown",
   "metadata": {},
   "source": [
    "# 用户活动中心"
   ]
  },
  {
   "cell_type": "code",
   "execution_count": 5,
   "metadata": {},
   "outputs": [],
   "source": [
    "# 得到所有的点\n",
    "i = 0\n",
    "csv_reader = csv.reader(open('./data/train_hard.csv', encoding='utf-8'))\n",
    "node_set = set()\n",
    "for row in csv_reader:\n",
    "    i+=1\n",
    "    if i == 1:\n",
    "        continue\n",
    "    node_set.add(row[5])\n",
    "    node_set.add(row[6])\n",
    "# 得到这些点对呀的lat long\n",
    "node_lat_long = {}\n",
    "for node in node_set:\n",
    "    decode = function.decode_exactly(node)\n",
    "    node_lat_long[node] = [decode[0],decode[1]]"
   ]
  },
  {
   "cell_type": "code",
   "execution_count": null,
   "metadata": {},
   "outputs": [],
   "source": [
    "# 得到用户使用的起点和终点，大于10公里的行程忽略\n",
    "\n",
    "i = 0\n",
    "csv_reader = csv.reader(open('./data/train_hard.csv', encoding='utf-8'))\n",
    "user_use_node = {}\n",
    "for row in csv_reader:\n",
    "    i+=1\n",
    "    if i == 1:\n",
    "        print(row[9])\n",
    "        continue\n",
    "    \n",
    "    user = row[1]\n",
    "    start = row[5]\n",
    "    end = row[6]\n",
    "    man_dis = row[9]\n",
    "    \n",
    "    if int(man_dis) > 10000:# 大于10\n",
    "        continue\n",
    "    \n",
    "    if user not in user_use_node:\n",
    "        user_use_node[user] = []\n",
    "        user_use_node[user].append(start)\n",
    "        user_use_node[user].append(end)\n",
    "    else:\n",
    "        user_use_node[user].append(start)\n",
    "        user_use_node[user].append(end)\n",
    "\n"
   ]
  },
  {
   "cell_type": "code",
   "execution_count": null,
   "metadata": {
    "collapsed": true
   },
   "outputs": [],
   "source": [
    "# 得到用户使用的点的[lat long]\n",
    "\n",
    "user_use_long_lat = {}\n",
    "for user in user_use_node:\n",
    "    user_use_long_lat[user] = []\n",
    "    for node in user_use_node[user]:\n",
    "        user_use_long_lat[user].append(node_lat_long[node])"
   ]
  },
  {
   "cell_type": "code",
   "execution_count": null,
   "metadata": {
    "collapsed": true
   },
   "outputs": [],
   "source": [
    "# 得到用户骑行的起点和终点的lat long差, 大于10公里不算\n",
    "\n",
    "i = 0\n",
    "csv_reader = csv.reader(open('./data/train_hard.csv', encoding='utf-8'))\n",
    "user_infor = {}\n",
    "for row in csv_reader:\n",
    "    i+=1\n",
    "    if i == 1:\n",
    "        continue\n",
    "    \n",
    "    user = row[1]\n",
    "    start = row[5]\n",
    "    end = row[6]\n",
    "    man_dis = row[9]\n",
    "    \n",
    "    if int(man_dis) > 10000:# 大于10\n",
    "        continue\n",
    "    \n",
    "    if user not in user_infor:\n",
    "        user_infor[user] = [[],[]]\n",
    "        user_infor[user][0].append(abs(node_lat_long[start][0] - node_lat_long[end][0])*1000)# 存下所有的lat差\n",
    "        user_infor[user][1].append(abs(node_lat_long[start][1] - node_lat_long[end][1])*1000)# 存下所有的long差\n",
    "    else:\n",
    "        user_infor[user][0].append(abs(node_lat_long[start][0] - node_lat_long[end][0])*1000)\n",
    "        user_infor[user][1].append(abs(node_lat_long[start][1] - node_lat_long[end][1])*1000)"
   ]
  },
  {
   "cell_type": "code",
   "execution_count": null,
   "metadata": {},
   "outputs": [],
   "source": [
    "# 得到用户的起点和终点的lat long差和的平均值\n",
    "for user in user_infor:\n",
    "    manhattan_lat_long_diff = np.mean(user_infor[user][0])+np.mean(user_infor[user][1])\n",
    "    user_infor[user] = manhattan_lat_long_diff\n",
    "    "
   ]
  },
  {
   "cell_type": "code",
   "execution_count": null,
   "metadata": {},
   "outputs": [],
   "source": [
    "#根据节点使用时间-次数占比聚簇\n",
    "\n",
    "#用scipy求解距离\n",
    "\n",
    "i = 0\n",
    "\n",
    "user_center = {}\n",
    "for user in user_use_long_lat:\n",
    "    \n",
    "    i+=1\n",
    "    \n",
    "    if i%10000 == 0:\n",
    "        print(i)\n",
    "    \n",
    "    K=range(1,20)\n",
    "    X = user_use_long_lat[user]\n",
    "    for k in K:\n",
    "        kmeans=KMeans(n_clusters=k)\n",
    "        kmeans.fit(X)\n",
    "        \n",
    "       \n",
    "        if sum(np.min(\n",
    "                cdist(X,kmeans.cluster_centers_,\n",
    "                     'cityblock'),axis=1))*1000/len(X) < user_infor[user]:\n",
    "            break\n",
    "        \n",
    "    user_center[user] = []\n",
    "    user_center[user].append(kmeans.cluster_centers_)\n",
    "    \n",
    "        \n",
    "    \n",
    "\n",
    "\n"
   ]
  },
  {
   "cell_type": "code",
   "execution_count": null,
   "metadata": {},
   "outputs": [],
   "source": [
    "record1 = 0\n",
    "record2 = 0\n",
    "record3 = 0\n",
    "record4 = 0\n",
    "record5 = 0\n",
    "recordM = 0\n",
    "for user,node in user_center.items():\n",
    "    \n",
    "    if len(node[0]) == 1:\n",
    "        record1+=1\n",
    "    elif len(node[0]) == 2:\n",
    "        record2+=1\n",
    "    elif len(node[0]) == 3:\n",
    "        record3+=1\n",
    "    elif len(node[0]) == 4:\n",
    "        record4+=1\n",
    "    elif len(node[0]) == 5:\n",
    "        record5+=1\n",
    "    else:\n",
    "        recordM+=1"
   ]
  },
  {
   "cell_type": "code",
   "execution_count": null,
   "metadata": {},
   "outputs": [],
   "source": [
    "print(record1)\n",
    "print(record2)\n",
    "print(record3)\n",
    "print(record4)\n",
    "print(record5)\n",
    "print(recordM)"
   ]
  },
  {
   "cell_type": "code",
   "execution_count": null,
   "metadata": {
    "collapsed": true
   },
   "outputs": [],
   "source": [
    "with open('./data/temp/Incomplete_caching/user_center','wb+') as f:\n",
    "    pickle.dump(user_center, f, pickle.HIGHEST_PROTOCOL)\n",
    "    \n"
   ]
  },
  {
   "cell_type": "markdown",
   "metadata": {},
   "source": [
    "# 单车活动中心"
   ]
  },
  {
   "cell_type": "code",
   "execution_count": 3,
   "metadata": {},
   "outputs": [
    {
     "name": "stdout",
     "output_type": "stream",
     "text": [
      "start_to_end_man_dis\n"
     ]
    }
   ],
   "source": [
    "# 得到bike使用的起点和终点，大于10公里的行程忽略\n",
    "\n",
    "i = 0\n",
    "csv_reader = csv.reader(open('./data/train_hard.csv', encoding='utf-8'))\n",
    "bike_use_node = {}\n",
    "for row in csv_reader:\n",
    "    i+=1\n",
    "    if i == 1:\n",
    "        print(row[9])\n",
    "        continue\n",
    "    \n",
    "    bike = row[2]\n",
    "    start = row[5]\n",
    "    end = row[6]\n",
    "    man_dis = row[9]\n",
    "    \n",
    "    if int(man_dis) > 10000:# 大于10\n",
    "        continue\n",
    "    \n",
    "    if bike not in bike_use_node:\n",
    "        bike_use_node[bike] = []\n",
    "        \n",
    "    bike_use_node[bike].append(start)\n",
    "    bike_use_node[bike].append(end)\n",
    "    \n",
    "\n"
   ]
  },
  {
   "cell_type": "code",
   "execution_count": 6,
   "metadata": {},
   "outputs": [],
   "source": [
    "# 得到bike使用的点的[lat long]\n",
    "\n",
    "bike_use_long_lat = {}\n",
    "for bike in bike_use_node:\n",
    "    bike_use_long_lat[bike] = []\n",
    "    for node in bike_use_node[bike]:\n",
    "        bike_use_long_lat[bike].append(node_lat_long[node])"
   ]
  },
  {
   "cell_type": "code",
   "execution_count": 7,
   "metadata": {},
   "outputs": [
    {
     "name": "stdout",
     "output_type": "stream",
     "text": [
      "start_to_end_man_dis\n"
     ]
    }
   ],
   "source": [
    "# 得到bike的起点和终点的lat long差, 大于10公里不算\n",
    "i = 0\n",
    "csv_reader = csv.reader(open('./data/train_hard.csv', encoding='utf-8'))\n",
    "bike_infor = {}\n",
    "for row in csv_reader:\n",
    "    i+=1\n",
    "    if i == 1:\n",
    "        print(row[9])\n",
    "        continue\n",
    "    \n",
    "    bike = row[2]\n",
    "    start = row[5]\n",
    "    end = row[6]\n",
    "    man_dis = row[9]\n",
    "    \n",
    "    if int(man_dis) > 10000:# 大于10\n",
    "        continue\n",
    "    \n",
    "    if bike not in bike_infor:\n",
    "        bike_infor[bike] = [[],[]]\n",
    "        \n",
    "    bike_infor[bike][0].append(abs(node_lat_long[start][0] - node_lat_long[end][0])*1000)# 存下所有的lat差\n",
    "    bike_infor[bike][1].append(abs(node_lat_long[start][1] - node_lat_long[end][1])*1000)# 存下所有的long差\n",
    "    "
   ]
  },
  {
   "cell_type": "code",
   "execution_count": 8,
   "metadata": {
    "collapsed": true
   },
   "outputs": [],
   "source": [
    "# 得到bike的起点和终点的lat long差和的平均值\n",
    "for bike in bike_infor:\n",
    "    manhattan_lat_long_diff = np.mean(bike_infor[bike][0])+np.mean(bike_infor[bike][1])\n",
    "    bike_infor[bike] = manhattan_lat_long_diff\n",
    "    "
   ]
  },
  {
   "cell_type": "code",
   "execution_count": 11,
   "metadata": {},
   "outputs": [
    {
     "data": {
      "text/plain": [
       "463440"
      ]
     },
     "execution_count": 11,
     "metadata": {},
     "output_type": "execute_result"
    }
   ],
   "source": [
    "len(bike_use_long_lat)"
   ]
  },
  {
   "cell_type": "code",
   "execution_count": 12,
   "metadata": {},
   "outputs": [
    {
     "name": "stdout",
     "output_type": "stream",
     "text": [
      "10000\n",
      "20000\n",
      "30000\n",
      "40000\n",
      "50000\n",
      "60000\n",
      "70000\n",
      "80000\n",
      "90000\n",
      "100000\n",
      "110000\n",
      "120000\n",
      "130000\n",
      "140000\n",
      "150000\n",
      "160000\n",
      "170000\n",
      "180000\n",
      "190000\n",
      "200000\n",
      "210000\n",
      "220000\n",
      "230000\n",
      "240000\n",
      "250000\n",
      "260000\n",
      "270000\n",
      "280000\n",
      "290000\n",
      "300000\n",
      "310000\n",
      "320000\n",
      "330000\n",
      "340000\n",
      "350000\n",
      "360000\n",
      "370000\n",
      "380000\n",
      "390000\n",
      "400000\n",
      "410000\n",
      "420000\n",
      "430000\n",
      "440000\n",
      "450000\n",
      "460000\n"
     ]
    }
   ],
   "source": [
    "#根据节点使用时间-次数占比聚簇\n",
    "\n",
    "#用scipy求解距离\n",
    "\n",
    "i = 0\n",
    "\n",
    "bike_center = {}\n",
    "for bike in bike_use_long_lat:\n",
    "    \n",
    "    i+=1\n",
    "    \n",
    "    if i%10000 == 0:\n",
    "        print(i)\n",
    "    \n",
    "    K=range(1,40)\n",
    "    X = bike_use_long_lat[bike]\n",
    "    for k in K:\n",
    "        kmeans=KMeans(n_clusters=k)\n",
    "        kmeans.fit(X)\n",
    "        \n",
    "       \n",
    "        if sum(np.min(\n",
    "                cdist(X,kmeans.cluster_centers_,\n",
    "                     'cityblock'),axis=1))*1000/len(X) < bike_infor[bike]:\n",
    "            break\n",
    "        \n",
    "    bike_center[bike] = []\n",
    "    bike_center[bike].append(kmeans.cluster_centers_)"
   ]
  },
  {
   "cell_type": "code",
   "execution_count": 17,
   "metadata": {
    "collapsed": true
   },
   "outputs": [],
   "source": [
    "with open('./data/temp/Incomplete_caching/bike_center','wb+') as f:\n",
    "    pickle.dump(bike_center, f, pickle.HIGHEST_PROTOCOL)\n"
   ]
  },
  {
   "cell_type": "code",
   "execution_count": null,
   "metadata": {
    "collapsed": true
   },
   "outputs": [],
   "source": []
  }
 ],
 "metadata": {
  "kernelspec": {
   "display_name": "Python 3",
   "language": "python",
   "name": "python3"
  },
  "language_info": {
   "codemirror_mode": {
    "name": "ipython",
    "version": 3
   },
   "file_extension": ".py",
   "mimetype": "text/x-python",
   "name": "python",
   "nbconvert_exporter": "python",
   "pygments_lexer": "ipython3",
   "version": "3.6.2"
  }
 },
 "nbformat": 4,
 "nbformat_minor": 2
}
