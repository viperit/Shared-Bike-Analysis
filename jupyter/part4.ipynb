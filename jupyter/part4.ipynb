{
 "cells": [
  {
   "cell_type": "code",
   "execution_count": 17,
   "metadata": {
    "collapsed": true
   },
   "outputs": [],
   "source": [
    "import csv\n",
    "import numpy as np\n",
    "import networkx as nx\n",
    "import math\n",
    "from scipy.stats import mode\n",
    "import function\n",
    "import pickle"
   ]
  },
  {
   "cell_type": "markdown",
   "metadata": {},
   "source": [
    "# 得到每个小时每个点的进出热度"
   ]
  },
  {
   "cell_type": "markdown",
   "metadata": {},
   "source": [
    "### 读取node_neis"
   ]
  },
  {
   "cell_type": "code",
   "execution_count": 6,
   "metadata": {
    "collapsed": true
   },
   "outputs": [],
   "source": [
    "# 读取node_neis\n",
    "i = 0\n",
    "node_neis = {}\n",
    "csv_reader = csv.reader(open('./data/temp/neighbour.csv', encoding='utf-8'))\n",
    "for row in csv_reader:\n",
    "    i+=1\n",
    "    if i == 1:\n",
    "        continue\n",
    "    node_neis[row[0]] = eval(row[1])"
   ]
  },
  {
   "cell_type": "markdown",
   "metadata": {},
   "source": [
    "### 读取node_region"
   ]
  },
  {
   "cell_type": "code",
   "execution_count": 7,
   "metadata": {
    "collapsed": true
   },
   "outputs": [],
   "source": [
    "# 读取node_region\n",
    "i = 0\n",
    "node_region = {}\n",
    "csv_reader = csv.reader(open('./data/temp/region.csv', encoding='utf-8'))\n",
    "for row in csv_reader:\n",
    "    i+=1\n",
    "    if i == 1:\n",
    "        continue\n",
    "    node_region[row[0]] = eval(row[1])"
   ]
  },
  {
   "cell_type": "markdown",
   "metadata": {},
   "source": [
    "## 得到每个小时每个点的出发和到达次数"
   ]
  },
  {
   "cell_type": "code",
   "execution_count": 8,
   "metadata": {
    "collapsed": true
   },
   "outputs": [],
   "source": [
    "node_count_hour_start = {}\n",
    "node_count_hour_end = {}\n",
    "i = 0\n",
    "csv_reader = csv.reader(open('./data/train_hard.csv', encoding='utf-8'))\n",
    "for row in csv_reader:\n",
    "    i+=1\n",
    "    if i == 1:\n",
    "        continue\n",
    "\n",
    "    start = row[5]\n",
    "    end = row[6]\n",
    "    hour = row[7]\n",
    "    \n",
    "    if hour not in node_count_hour_start:\n",
    "        node_count_hour_start[hour] = {}\n",
    "        node_count_hour_start[hour][start] = 1 \n",
    "    else:\n",
    "        if start not in node_count_hour_start[hour]:\n",
    "            node_count_hour_start[hour][start] = 1 \n",
    "        else:\n",
    "            node_count_hour_start[hour][start] += 1 \n",
    "    \n",
    "    if hour not in node_count_hour_end:\n",
    "        node_count_hour_end[hour] = {}\n",
    "        node_count_hour_end[hour][end] = 1\n",
    "    else:\n",
    "        if end not in node_count_hour_end[hour]:\n",
    "            node_count_hour_end[hour][end] = 1\n",
    "        else:\n",
    "            node_count_hour_end[hour][end] += 1"
   ]
  },
  {
   "cell_type": "markdown",
   "metadata": {},
   "source": [
    "## 得到geofly之前的进、出、总热度\n",
    "\n"
   ]
  },
  {
   "cell_type": "code",
   "execution_count": 9,
   "metadata": {
    "collapsed": true
   },
   "outputs": [],
   "source": [
    "def get_hour_ratio(node_region,node_count_start,node_count_end):\n",
    "    \n",
    "    node_region_start_ratio = {}\n",
    "    node_region_end_ratio = {}\n",
    "    node_region_overall_ratio = {}\n",
    "    for node in node_region:#对于所有\n",
    "\n",
    "        neis = node_region[node]\n",
    "\n",
    "        total_start = 0\n",
    "        total_end = 0\n",
    "\n",
    "        total_node = 0\n",
    "        total_region = 0\n",
    "\n",
    "        for nei in neis:\n",
    "            if nei in node_count_start:\n",
    "                total_start+=node_count_start[nei]#区域内总出发\n",
    "                total_region+=node_count_start[nei]#区域内总进出\n",
    "            if nei in node_count_end:\n",
    "                total_end+=node_count_end[nei]#区域内总进\n",
    "                total_region+=node_count_end[nei]#区域内总进出\n",
    "\n",
    "        if node in node_count_start:#如果该点出发过\n",
    "            node_region_start_ratio[node] = node_count_start[node]/total_start#region出发热度\n",
    "            total_node+=node_count_start[node]#计算总热度\n",
    "        else:\n",
    "            node_region_start_ratio[node] = -1#不存在\n",
    "\n",
    "        if node in node_count_end:#如果该点被到达过\n",
    "            node_region_end_ratio[node] = node_count_end[node]/total_end#region到达热度\n",
    "            total_node+=node_count_end[node]#计算总热\n",
    "        else:\n",
    "            node_region_end_ratio[node] = -1#不存在\n",
    "\n",
    "        if total_region == 0 or total_node == 0:\n",
    "            node_region_overall_ratio[node] = -1\n",
    "        else:\n",
    "            node_region_overall_ratio[node] = total_node/total_region\n",
    "            \n",
    "    return node_region_start_ratio,node_region_end_ratio,node_region_overall_ratio\n"
   ]
  },
  {
   "cell_type": "code",
   "execution_count": 14,
   "metadata": {},
   "outputs": [],
   "source": [
    "node_region_hour_start_ratio = {}\n",
    "node_region_hour_end_ratio = {}\n",
    "node_region_hour_overall_ratio = {}\n",
    "for hour in node_count_hour_start:\n",
    "    node_region_hour_start_ratio[hour],\\\n",
    "    node_region_hour_end_ratio[hour],\\\n",
    "    node_region_hour_overall_ratio[hour] = get_hour_ratio(node_region,\\\n",
    "                                                          node_count_hour_start[hour],node_count_hour_end[hour])"
   ]
  },
  {
   "cell_type": "code",
   "execution_count": 34,
   "metadata": {},
   "outputs": [],
   "source": [
    "with open('./data/temp/feature_table/node_region_hour_start_ratio','wb+') as f:\n",
    "    pickle.dump(node_region_hour_start_ratio, f, pickle.HIGHEST_PROTOCOL)\n",
    "    \n",
    "with open('./data/temp/feature_table/node_region_hour_end_ratio','wb+') as f:\n",
    "    pickle.dump(node_region_hour_end_ratio, f, pickle.HIGHEST_PROTOCOL)\n",
    "    \n",
    "with open('./data/temp/feature_table/node_region_hour_overall_ratio','wb+') as f:\n",
    "    pickle.dump(node_region_hour_overall_ratio, f, pickle.HIGHEST_PROTOCOL)"
   ]
  },
  {
   "cell_type": "markdown",
   "metadata": {},
   "source": [
    "# geofly后"
   ]
  },
  {
   "cell_type": "markdown",
   "metadata": {},
   "source": [
    "## 得到每个小时每个点的出发和到达次数(用于计算热度比例)"
   ]
  },
  {
   "cell_type": "code",
   "execution_count": 35,
   "metadata": {},
   "outputs": [],
   "source": [
    "node_count_hour_start = {}\n",
    "node_count_hour_end = {}\n",
    "i = 0\n",
    "csv_reader = csv.reader(open('./data/train_hard.csv', encoding='utf-8'))\n",
    "for row in csv_reader:\n",
    "    i+=1\n",
    "    if i == 1:\n",
    "        continue\n",
    "\n",
    "    start = row[5]\n",
    "    end = row[6]\n",
    "    hour = row[7]\n",
    "    \n",
    "    if hour not in node_count_hour_start:\n",
    "        node_count_hour_start[hour] = {}\n",
    "        node_count_hour_start[hour][start] = 1 \n",
    "    else:\n",
    "        if start not in node_count_hour_start[hour]:\n",
    "            node_count_hour_start[hour][start] = 1 \n",
    "        else:\n",
    "            node_count_hour_start[hour][start] += 1 \n",
    "    \n",
    "    if hour not in node_count_hour_end:\n",
    "        node_count_hour_end[hour] = {}\n",
    "        node_count_hour_end[hour][end] = 1\n",
    "    else:\n",
    "        if end not in node_count_hour_end[hour]:\n",
    "            node_count_hour_end[hour][end] = 1\n",
    "        else:\n",
    "            node_count_hour_end[hour][end] += 1"
   ]
  },
  {
   "cell_type": "markdown",
   "metadata": {},
   "source": [
    "## 得到geofly每个小时每个点的出发和到达次数"
   ]
  },
  {
   "cell_type": "code",
   "execution_count": 36,
   "metadata": {},
   "outputs": [],
   "source": [
    "node_count_hour_start_geofly = {}\n",
    "node_count_hour_end_geofly = {}\n",
    "i = 0\n",
    "csv_reader = csv.reader(open('./data/train_start_geofly.csv', encoding='utf-8'))\n",
    "for row in csv_reader:\n",
    "    i+=1\n",
    "    if i == 1:\n",
    "        continue\n",
    "\n",
    "    start = row[5]\n",
    "    end = row[6]\n",
    "    hour = row[7]\n",
    "    \n",
    "    if hour not in node_count_hour_start_geofly:\n",
    "        node_count_hour_start_geofly[hour] = {}\n",
    "        node_count_hour_start_geofly[hour][start] = 1 \n",
    "    else:\n",
    "        if start not in node_count_hour_start_geofly[hour]:\n",
    "            node_count_hour_start_geofly[hour][start] = 1 \n",
    "        else:\n",
    "            node_count_hour_start_geofly[hour][start] += 1 \n",
    "            \n",
    "i = 0\n",
    "csv_reader = csv.reader(open('./data/train_end_geofly.csv', encoding='utf-8'))\n",
    "for row in csv_reader:\n",
    "    i+=1\n",
    "    if i == 1:\n",
    "        continue\n",
    "\n",
    "    start = row[5]\n",
    "    end = row[6]\n",
    "    hour = row[7]\n",
    "    \n",
    "    if hour not in node_count_hour_end_geofly:\n",
    "        node_count_hour_end_geofly[hour] = {}\n",
    "        node_count_hour_end_geofly[hour][end] = 1\n",
    "    else:\n",
    "        if end not in node_count_hour_end_geofly[hour]:\n",
    "            node_count_hour_end_geofly[hour][end] = 1\n",
    "        else:\n",
    "            node_count_hour_end_geofly[hour][end] += 1"
   ]
  },
  {
   "cell_type": "markdown",
   "metadata": {},
   "source": [
    "## 得到每小时geofly的进、出、总热度"
   ]
  },
  {
   "cell_type": "code",
   "execution_count": 37,
   "metadata": {
    "collapsed": true
   },
   "outputs": [],
   "source": [
    "def get_hour_ratio_geofly(node_region,node_count_start,node_count_end,node_count_start_geofly,node_count_end_geofly):\n",
    "    \n",
    "    node_region_start_ratio = {}\n",
    "    node_region_end_ratio = {}\n",
    "    node_region_overall_ratio = {}\n",
    "    for node in node_region:#对于所有\n",
    "\n",
    "        neis = node_region[node]\n",
    "\n",
    "        total_start = 0\n",
    "        total_end = 0\n",
    "\n",
    "        total_node = 0\n",
    "        total_region = 0\n",
    "\n",
    "        for nei in neis:\n",
    "            if nei in node_count_start: \n",
    "                total_start+=node_count_start[nei]#区域内总出发  只能算没有fly前的次数\n",
    "                total_region+=node_count_start[nei]#区域内总进出\n",
    "            if nei in node_count_end:\n",
    "                total_end+=node_count_end[nei]#区域内总进   只能算没有fly前的次数\n",
    "                total_region+=node_count_end[nei]#区域内总进出\n",
    "\n",
    "        if node in node_count_start_geofly:#如果该点出发过\n",
    "            node_region_start_ratio[node] = node_count_start_geofly[node]/total_start#region出发热度\n",
    "            total_node+=node_count_start_geofly[node]#计算总热度\n",
    "        else:\n",
    "            node_region_start_ratio[node] = -1#不存在\n",
    "\n",
    "        if node in node_count_end_geofly:#如果该点被到达过\n",
    "            node_region_end_ratio[node] = node_count_end_geofly[node]/total_end#region到达热度\n",
    "            total_node+=node_count_end_geofly[node]#计算总热\n",
    "        else:\n",
    "            node_region_end_ratio[node] = -1#不存在\n",
    "\n",
    "        if total_region == 0 or total_node == 0:\n",
    "            node_region_overall_ratio[node] = -1\n",
    "        else:\n",
    "            node_region_overall_ratio[node] = total_node/total_region\n",
    "            \n",
    "    return node_region_start_ratio,node_region_end_ratio,node_region_overall_ratio\n",
    "\n"
   ]
  },
  {
   "cell_type": "code",
   "execution_count": 38,
   "metadata": {},
   "outputs": [],
   "source": [
    "node_region_hour_start_geofly_ratio = {}\n",
    "node_region_hour_end_geofly_ratio = {}\n",
    "node_region_hour_overall_geofly_ratio = {}\n",
    "for hour in node_count_hour_start_geofly:\n",
    "    node_region_hour_start_geofly_ratio[hour],\\\n",
    "    node_region_hour_end_geofly_ratio[hour],\\\n",
    "    node_region_hour_overall_geofly_ratio[hour] = get_hour_ratio_geofly(node_region,\\\n",
    "                                                            node_count_hour_start[hour],node_count_hour_end[hour],\\\n",
    "                                                          node_count_hour_start_geofly[hour],\\\n",
    "                                                                 node_count_hour_end_geofly[hour])"
   ]
  },
  {
   "cell_type": "code",
   "execution_count": 39,
   "metadata": {
    "collapsed": true
   },
   "outputs": [],
   "source": [
    "with open('./data/temp/feature_table/node_region_hour_start_geofly_ratio','wb+') as f:\n",
    "    pickle.dump(node_region_hour_start_geofly_ratio, f, pickle.HIGHEST_PROTOCOL)\n",
    "    \n",
    "with open('./data/temp/feature_table/node_region_hour_end_geofly_ratio','wb+') as f:\n",
    "    pickle.dump(node_region_hour_end_geofly_ratio, f, pickle.HIGHEST_PROTOCOL)\n",
    "    \n",
    "with open('./data/temp/feature_table/node_region_hour_overall_geofly_ratio','wb+') as f:\n",
    "    pickle.dump(node_region_hour_overall_geofly_ratio, f, pickle.HIGHEST_PROTOCOL)"
   ]
  },
  {
   "cell_type": "code",
   "execution_count": null,
   "metadata": {
    "collapsed": true
   },
   "outputs": [],
   "source": []
  }
 ],
 "metadata": {
  "kernelspec": {
   "display_name": "Python 3",
   "language": "python",
   "name": "python3"
  },
  "language_info": {
   "codemirror_mode": {
    "name": "ipython",
    "version": 3
   },
   "file_extension": ".py",
   "mimetype": "text/x-python",
   "name": "python",
   "nbconvert_exporter": "python",
   "pygments_lexer": "ipython3",
   "version": "3.6.2"
  }
 },
 "nbformat": 4,
 "nbformat_minor": 2
}
