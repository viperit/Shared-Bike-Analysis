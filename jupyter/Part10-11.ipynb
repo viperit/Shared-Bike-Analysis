{
 "cells": [
  {
   "cell_type": "markdown",
   "metadata": {},
   "source": [
    "# Part10-11"
   ]
  },
  {
   "cell_type": "code",
   "execution_count": 1,
   "metadata": {
    "collapsed": true
   },
   "outputs": [],
   "source": [
    "import csv\n",
    "import numpy as np\n",
    "import networkx as nx\n",
    "import math\n",
    "from scipy.stats import mode\n",
    "import function\n",
    "import pickle"
   ]
  },
  {
   "cell_type": "code",
   "execution_count": null,
   "metadata": {
    "collapsed": true
   },
   "outputs": [],
   "source": [
    "def get_cur_hour_num_to(path,count_path='./data/train_hard.csv'):\n",
    "    \n",
    "    i = 0\n",
    "    user_count = {}\n",
    "    cur_hour_user_count = {}\n",
    "    csv_reader = csv.reader(open(count_path, encoding='utf-8'))\n",
    "    for row in csv_reader:\n",
    "        i+=1\n",
    "        if i == 1:\n",
    "            continue\n",
    "        user = row[1]\n",
    "        hour = row[7]\n",
    "        \n",
    "        if user not in user_count:\n",
    "            user_count[user] = 1\n",
    "        else:\n",
    "            user_count[user] += 1\n",
    "        if hour not in cur_hour_user_count:\n",
    "            cur_hour_user_count[hour] = {}\n",
    "            cur_hour_user_count[hour][user] = 1\n",
    "        else:\n",
    "            if user not in cur_hour_user_count[hour]:\n",
    "                cur_hour_user_count[hour][user] = 1\n",
    "            else:\n",
    "                cur_hour_user_count[hour][user] += 1\n",
    "    \n",
    "    \n",
    "\n",
    "    cur_hour_user_end_dic = {}# 记录当前小时内用户使用了哪些终点几次\n",
    "    \n",
    "    cur_hour_end_node_user_dic = {}# 记录当前小时内那些用户使用了终点\n",
    "\n",
    "    \n",
    "    i = 0\n",
    "    csv_reader = csv.reader(open(path, encoding='utf-8'))\n",
    "    for row in csv_reader:\n",
    "        i+=1\n",
    "        if i == 1:\n",
    "            continue\n",
    "        \n",
    "        user = row[1]\n",
    "        end = row[6]\n",
    "        hour = row[7]\n",
    "        \n",
    "        \n",
    "        # 记录当前小时那些用户使用了哪些终点几次\n",
    "        if hour not in cur_hour_user_end_dic:\n",
    "            cur_hour_user_end_dic[hour] = {}\n",
    "            cur_hour_user_end_dic[hour][user] = {}\n",
    "            cur_hour_user_end_dic[hour][user][end] = 1\n",
    "        else:\n",
    "            if user not in cur_hour_user_end_dic[hour]:\n",
    "                cur_hour_user_end_dic[hour][user] = {}\n",
    "                cur_hour_user_end_dic[hour][user][end] = 1\n",
    "            else:\n",
    "                if end not in cur_hour_user_end_dic[hour][user]:\n",
    "                    cur_hour_user_end_dic[hour][user][end] = 1\n",
    "                else:\n",
    "                    cur_hour_user_end_dic[hour][user][end] += 1\n",
    "        \n",
    "        \n",
    "        # 记录当前小时那些用户在那个终点到达过  # 记录当前小时哪些终点被哪些用户使用过\n",
    "        if hour not in cur_hour_end_node_user_dic:\n",
    "            cur_hour_end_node_user_dic[hour] = {}\n",
    "            cur_hour_end_node_user_dic[hour][end] = set()\n",
    "            cur_hour_end_node_user_dic[hour][end].add(user)\n",
    "        else:\n",
    "            if end not in cur_hour_end_node_user_dic[hour]:\n",
    "                cur_hour_end_node_user_dic[hour][end] = set()\n",
    "                cur_hour_end_node_user_dic[hour][end].add(user)\n",
    "            else:\n",
    "                cur_hour_end_node_user_dic[hour][end].add(user)\n",
    "\n",
    "    \n",
    "    num_user_cur_hour_to_ratio = {}# 当前小时去过此终点的用户去该终点的总数/当前小时去过此终点的用户使用的总次数\n",
    "    num_user_cur_hour_to_cur_hour_ratio = {}# 当前小时去过此终点的用户去该终点的总数/当前小时去过此终点的用户当前小时使用的总次数\n",
    "    \n",
    "    \n",
    "    for hour in cur_hour_end_node_user_dic:\n",
    "        \n",
    "        \n",
    "        num_user_cur_hour_to_ratio[hour] = {}\n",
    "        num_user_cur_hour_to_cur_hour_ratio[hour] = {}\n",
    "        \n",
    "        \n",
    "        for node in cur_hour_end_node_user_dic[hour]:# 当前小时内被到达过的点\n",
    "\n",
    "\n",
    "            total_to = 0# 当前小时内该点被到达几次==当前小时内去过该点的所有用户一共去过几次\n",
    "            total_used = 0# 当前小时去过该点的用户骑行总次数\n",
    "            total_cur_hour_used = 0# 当前小时去过该点的用户当前小时骑行总次数\n",
    "\n",
    "            for user in cur_hour_end_node_user_dic[hour][node]:# 遍历当前小时内去过node的用户\n",
    "                \n",
    "                \n",
    "                #if hour in cur_hour_user_count and \\\n",
    "                        #user in cur_hour_user_end_dic[hour] \\\n",
    "                            #and node in cur_hour_user_end_dic[hour][user]:\n",
    "                total_to+=cur_hour_user_end_dic[hour][user][node]# 累计当前小时到达过这个点的用户当前小时到达这个点几次\n",
    "                \n",
    "                total_used+=user_count[user]# 当前小时去过该点的用户总使用次数\n",
    "                \n",
    "                #if hour in cur_hour_user_count and user in cur_hour_user_count[hour]:\n",
    "                total_cur_hour_used += cur_hour_user_count[hour][user]# 当前小时去过该点的用户当前小时骑行总次数\n",
    "\n",
    "\n",
    "            if total_used!=0:\n",
    "                num_user_cur_hour_to_ratio[hour][node] = total_to/total_used\n",
    "            else:\n",
    "                print('xxxx')\n",
    "                num_user_cur_hour_to_ratio[node] = 0\n",
    "            \n",
    "            if total_cur_hour_used!=0:\n",
    "                num_user_cur_hour_to_cur_hour_ratio[hour][node] = total_to/total_cur_hour_used\n",
    "            else:\n",
    "                print('xxxx')\n",
    "                num_user_cur_hour_to_cur_hour_ratio[node] = 0\n",
    "            \n",
    "    return num_user_cur_hour_to_ratio,num_user_cur_hour_to_cur_hour_ratio"
   ]
  },
  {
   "cell_type": "code",
   "execution_count": null,
   "metadata": {
    "collapsed": true
   },
   "outputs": [],
   "source": [
    "num_user_cur_hour_to_ratio,num_user_cur_hour_to_cur_hour_ratio = get_cur_hour_num_to('./data/train_hard.csv')"
   ]
  },
  {
   "cell_type": "code",
   "execution_count": null,
   "metadata": {
    "collapsed": true
   },
   "outputs": [],
   "source": [
    "with open('./data/temp/feature_table/num_user_cur_hour_to_ratio','wb+') as f:\n",
    "    pickle.dump(num_user_cur_hour_to_ratio, f, pickle.HIGHEST_PROTOCOL)\n",
    "    \n",
    "with open('./data/temp/feature_table/num_user_cur_hour_to_cur_hour_ratio','wb+') as f:\n",
    "    pickle.dump(num_user_cur_hour_to_cur_hour_ratio, f, pickle.HIGHEST_PROTOCOL)"
   ]
  },
  {
   "cell_type": "code",
   "execution_count": null,
   "metadata": {
    "collapsed": true
   },
   "outputs": [],
   "source": [
    "num_user_cur_hour_to_geofly_ratio,num_user_cur_hour_to_geofly_cur_hour_ratio\\\n",
    "                    = get_cur_hour_num_to('./data/train_end_geofly.csv')"
   ]
  },
  {
   "cell_type": "code",
   "execution_count": null,
   "metadata": {
    "collapsed": true
   },
   "outputs": [],
   "source": [
    "with open('./data/temp/feature_table/num_user_cur_hour_to_geofly_ratio','wb+') as f:\n",
    "    pickle.dump(num_user_cur_hour_to_geofly_ratio, f, pickle.HIGHEST_PROTOCOL)\n",
    "    \n",
    "with open('./data/temp/feature_table/num_user_cur_hour_to_geofly_cur_hour_ratio','wb+') as f:\n",
    "    pickle.dump(num_user_cur_hour_to_geofly_cur_hour_ratio, f, pickle.HIGHEST_PROTOCOL)"
   ]
  },
  {
   "cell_type": "code",
   "execution_count": 2,
   "metadata": {
    "collapsed": true
   },
   "outputs": [],
   "source": [
    "def get_cur_hour_num_from(path,count_path='./data/train_hard.csv'):\n",
    "    \n",
    "    i = 0\n",
    "    user_count = {}\n",
    "    cur_hour_user_count = {}\n",
    "    csv_reader = csv.reader(open(count_path, encoding='utf-8'))\n",
    "    for row in csv_reader:\n",
    "        i+=1\n",
    "        if i == 1:\n",
    "            continue\n",
    "        user = row[1]\n",
    "        hour = row[7]\n",
    "        \n",
    "        if user not in user_count:\n",
    "            user_count[user] = 1\n",
    "        else:\n",
    "            user_count[user] += 1\n",
    "        if hour not in cur_hour_user_count:\n",
    "            cur_hour_user_count[hour] = {}\n",
    "            cur_hour_user_count[hour][user] = 1\n",
    "        else:\n",
    "            if user not in cur_hour_user_count[hour]:\n",
    "                cur_hour_user_count[hour][user] = 1\n",
    "            else:\n",
    "                cur_hour_user_count[hour][user] += 1\n",
    "    \n",
    "    \n",
    "\n",
    "    cur_hour_user_start_dic = {}# 记录当前小时内用户使用了哪些起点几次\n",
    "    \n",
    "    cur_hour_start_node_user_dic = {}# 记录当前小时内那些用户使用了起点\n",
    "\n",
    "    \n",
    "    i = 0\n",
    "    csv_reader = csv.reader(open(path, encoding='utf-8'))\n",
    "    for row in csv_reader:\n",
    "        i+=1\n",
    "        if i == 1:\n",
    "            continue\n",
    "        \n",
    "        user = row[1]\n",
    "        start = row[5]\n",
    "        hour = row[7]\n",
    "        \n",
    "        \n",
    "        # 记录当前小时那些用户使用了哪些终点几次\n",
    "        if hour not in cur_hour_user_start_dic:\n",
    "            cur_hour_user_start_dic[hour] = {}\n",
    "            cur_hour_user_start_dic[hour][user] = {}\n",
    "            cur_hour_user_start_dic[hour][user][start] = 1\n",
    "        else:\n",
    "            if user not in cur_hour_user_start_dic[hour]:\n",
    "                cur_hour_user_start_dic[hour][user] = {}\n",
    "                cur_hour_user_start_dic[hour][user][start] = 1\n",
    "            else:\n",
    "                if start not in cur_hour_user_start_dic[hour][user]:\n",
    "                    cur_hour_user_start_dic[hour][user][start] = 1\n",
    "                else:\n",
    "                    cur_hour_user_start_dic[hour][user][start] += 1\n",
    "        \n",
    "        \n",
    "        # 记录当前小时那些用户在那个终点到达过  # 记录当前小时哪些终点被哪些用户使用过\n",
    "        if hour not in cur_hour_start_node_user_dic:\n",
    "            cur_hour_start_node_user_dic[hour] = {}\n",
    "            cur_hour_start_node_user_dic[hour][start] = set()\n",
    "            cur_hour_start_node_user_dic[hour][start].add(user)\n",
    "        else:\n",
    "            if start not in cur_hour_start_node_user_dic[hour]:\n",
    "                cur_hour_start_node_user_dic[hour][start] = set()\n",
    "                cur_hour_start_node_user_dic[hour][start].add(user)\n",
    "            else:\n",
    "                cur_hour_start_node_user_dic[hour][start].add(user)\n",
    "\n",
    "    \n",
    "    num_user_cur_hour_from_ratio = {}# 当前小时去过此终点的用户去该终点的总数/当前小时去过此终点的用户使用的总次数\n",
    "    num_user_cur_hour_from_cur_hour_ratio = {}# 当前小时去过此终点的用户去该终点的总数/当前小时去过此终点的用户当前小时使用的总次数\n",
    "    \n",
    "    \n",
    "    for hour in cur_hour_start_node_user_dic:\n",
    "        \n",
    "        \n",
    "        num_user_cur_hour_from_ratio[hour] = {}\n",
    "        num_user_cur_hour_from_cur_hour_ratio[hour] = {}\n",
    "        \n",
    "        \n",
    "        for node in cur_hour_start_node_user_dic[hour]:# 当前小时内被到达过的点\n",
    "\n",
    "\n",
    "            total_to = 0# 当前小时内该点被到达几次==当前小时内去过该点的所有用户一共去过几次\n",
    "            total_used = 0# 当前小时去过该点的用户骑行总次数\n",
    "            total_cur_hour_used = 0# 当前小时去过该点的用户当前小时骑行总次数\n",
    "\n",
    "            for user in cur_hour_start_node_user_dic[hour][node]:# 遍历当前小时内去过node的用户\n",
    "                \n",
    "                \n",
    "                #if hour in cur_hour_user_count and \\\n",
    "                        #user in cur_hour_user_end_dic[hour] \\\n",
    "                            #and node in cur_hour_user_end_dic[hour][user]:\n",
    "                total_to+=cur_hour_user_start_dic[hour][user][node]# 累计当前小时到达过这个点的用户当前小时到达这个点几次\n",
    "                \n",
    "                total_used+=user_count[user]# 当前小时去过该点的用户总使用次数\n",
    "                \n",
    "                #if hour in cur_hour_user_count and user in cur_hour_user_count[hour]:\n",
    "                total_cur_hour_used += cur_hour_user_count[hour][user]# 当前小时去过该点的用户当前小时骑行总次数\n",
    "\n",
    "\n",
    "            if total_used!=0:\n",
    "                num_user_cur_hour_from_ratio[hour][node] = total_to/total_used\n",
    "            else:\n",
    "                print('xxxx')\n",
    "                num_user_cur_hour_from_ratio[node] = 0\n",
    "            \n",
    "            if total_cur_hour_used!=0:\n",
    "                num_user_cur_hour_from_cur_hour_ratio[hour][node] = total_to/total_cur_hour_used\n",
    "            else:\n",
    "                print('xxxx')\n",
    "                num_user_cur_hour_from_cur_hour_ratio[node] = 0\n",
    "            \n",
    "    return num_user_cur_hour_from_ratio,num_user_cur_hour_from_cur_hour_ratio"
   ]
  },
  {
   "cell_type": "code",
   "execution_count": 3,
   "metadata": {
    "collapsed": true
   },
   "outputs": [],
   "source": [
    "num_user_cur_hour_from_ratio,num_user_cur_hour_from_cur_hour_ratio= get_cur_hour_num_from('./data/train_hard.csv')"
   ]
  },
  {
   "cell_type": "code",
   "execution_count": 20,
   "metadata": {
    "collapsed": true
   },
   "outputs": [],
   "source": [
    "with open('./data/temp/feature_table/num_user_cur_hour_from_ratio','wb+') as f:\n",
    "    pickle.dump(num_user_cur_hour_from_ratio, f, pickle.HIGHEST_PROTOCOL)\n",
    "    \n",
    "with open('./data/temp/feature_table/num_user_cur_hour_from_cur_hour_ratio','wb+') as f:\n",
    "    pickle.dump(num_user_cur_hour_from_cur_hour_ratio, f, pickle.HIGHEST_PROTOCOL)"
   ]
  },
  {
   "cell_type": "code",
   "execution_count": 21,
   "metadata": {
    "collapsed": true
   },
   "outputs": [],
   "source": [
    "num_user_cur_hour_from_geofly_ratio,num_user_cur_hour_from_geofly_cur_hour_ratio \\\n",
    "                    = get_cur_hour_num_from('./data/train_start_geofly.csv')"
   ]
  },
  {
   "cell_type": "code",
   "execution_count": 41,
   "metadata": {
    "collapsed": true
   },
   "outputs": [],
   "source": [
    "with open('./data/temp/feature_table/num_user_cur_hour_from_geofly_ratio','wb+') as f:\n",
    "    pickle.dump(num_user_cur_hour_from_geofly_ratio, f, pickle.HIGHEST_PROTOCOL)\n",
    "    \n",
    "with open('./data/temp/feature_table/num_user_cur_hour_from_geofly_cur_hour_ratio','wb+') as f:\n",
    "    pickle.dump(num_user_cur_hour_from_geofly_cur_hour_ratio, f, pickle.HIGHEST_PROTOCOL)"
   ]
  },
  {
   "cell_type": "code",
   "execution_count": null,
   "metadata": {
    "collapsed": true
   },
   "outputs": [],
   "source": []
  }
 ],
 "metadata": {
  "kernelspec": {
   "display_name": "Python 3",
   "language": "python",
   "name": "python3"
  },
  "language_info": {
   "codemirror_mode": {
    "name": "ipython",
    "version": 3
   },
   "file_extension": ".py",
   "mimetype": "text/x-python",
   "name": "python",
   "nbconvert_exporter": "python",
   "pygments_lexer": "ipython3",
   "version": "3.6.2"
  }
 },
 "nbformat": 4,
 "nbformat_minor": 2
}
