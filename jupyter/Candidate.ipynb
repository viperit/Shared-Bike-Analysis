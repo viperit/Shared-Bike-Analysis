{
 "cells": [
  {
   "cell_type": "code",
   "execution_count": 2,
   "metadata": {
    "collapsed": true
   },
   "outputs": [],
   "source": [
    "import csv\n",
    "import numpy as np\n",
    "import networkx as nx\n",
    "import math\n",
    "from scipy.stats import mode\n",
    "import function\n",
    "import pickle"
   ]
  },
  {
   "cell_type": "markdown",
   "metadata": {},
   "source": [
    "## 得到用户使用过的点"
   ]
  },
  {
   "cell_type": "code",
   "execution_count": 3,
   "metadata": {
    "collapsed": true
   },
   "outputs": [],
   "source": [
    "# 每个用户使用过的点\n",
    "\n",
    "def get_user_used_node():\n",
    "\n",
    "    user_used_node = {}\n",
    "\n",
    "    i = 0\n",
    "    csv_reader = csv.reader(open('./data/train_hard.csv', encoding='utf-8'))\n",
    "    for row in csv_reader:\n",
    "        i+=1\n",
    "        if i==1:\n",
    "            continue\n",
    "        user = row[1]\n",
    "        start = row[5]\n",
    "        end = row[6]\n",
    "        man_dis = int(row[9])\n",
    "\n",
    "      \n",
    "        if user not in user_used_node:\n",
    "            user_used_node[user] = set()\n",
    "\n",
    "        user_used_node[user].add(start)\n",
    "        user_used_node[user].add(end)\n",
    "\n",
    "    i = 0\n",
    "    csv_reader = csv.reader(open('./data/test_hard.csv', encoding='utf-8'))\n",
    "    for row in csv_reader:\n",
    "        i+=1\n",
    "        if i==1:\n",
    "            continue\n",
    "        user = row[1]\n",
    "        start = row[5]\n",
    "\n",
    "        if user not in user_used_node:\n",
    "            user_used_node[user] = set()\n",
    "\n",
    "        user_used_node[user].add(start)\n",
    "        \n",
    "    return user_used_node\n"
   ]
  },
  {
   "cell_type": "markdown",
   "metadata": {},
   "source": [
    "## 得到起点到了哪些终点"
   ]
  },
  {
   "cell_type": "code",
   "execution_count": 4,
   "metadata": {
    "collapsed": true
   },
   "outputs": [],
   "source": [
    "def get_node_top_destination(path):\n",
    "\n",
    "    node_top_destination = {}\n",
    "\n",
    "    i = 0\n",
    "    csv_reader = csv.reader(open(path, encoding='utf-8'))\n",
    "    for row in csv_reader:\n",
    "        i+=1\n",
    "        if i==1:\n",
    "            continue\n",
    "        \n",
    "        start = row[5]\n",
    "        end = row[6]\n",
    "        \n",
    "        if start not in node_top_destination:\n",
    "            node_top_destination[start] = {}\n",
    "\n",
    "        \n",
    "        node_top_destination[start][end] = node_top_destination[start].get(end,0)+1\n",
    "\n",
    "    for start in node_top_destination:\n",
    "        tmp = sorted(node_top_destination[start].items(),key = lambda item:item[1],reverse=True)\n",
    "        node_top_destination[start] = tmp\n",
    "    \n",
    "    return node_top_destination\n",
    "\n"
   ]
  },
  {
   "cell_type": "code",
   "execution_count": 46,
   "metadata": {
    "collapsed": true
   },
   "outputs": [],
   "source": [
    "# 计算覆盖率\n",
    "def computer_coverage(user_used_node,node_top_destination,top_num,hour_node_top_num,hour_top_num):\n",
    "       \n",
    "    miss = 0# \n",
    "    \n",
    "    i = 0\n",
    "    csv_reader = csv.reader(open('./data/test_hard.csv', encoding='utf-8'))\n",
    "    for row in csv_reader:\n",
    "        i+=1\n",
    "        if i==1:\n",
    "            continue\n",
    "        user = row[1]\n",
    "        start = row[5]\n",
    "        end = row[6]\n",
    "        hour = row[7]\n",
    "        \n",
    "        candidates = set()\n",
    "        \n",
    "        temp = user_used_node.get(user,set())\n",
    "        for node in temp:\n",
    "            candidates.add(node)\n",
    "\n",
    "        temp = node_top_destination.get(start,'')\n",
    "        for k in range(min(top_num,len(temp))):\n",
    "            candidates.add(temp[k][0])\n",
    "            \n",
    "        for hour in hour_node_top_num:\n",
    "            temp = hour_node_top_num[hour].get(start,'')\n",
    "            for k in range(min(hour_top_num,len(temp))):\n",
    "                candidates.add(temp[k][0])\n",
    "            \n",
    "        if end not in candidates:\n",
    "            miss+=1\n",
    "            \n",
    "    print(1-miss/(i-1))"
   ]
  },
  {
   "cell_type": "code",
   "execution_count": 31,
   "metadata": {
    "collapsed": true
   },
   "outputs": [],
   "source": [
    "def get_hour_node_top_num(path):\n",
    "    \n",
    "    hour_node_top_num = {}\n",
    "    \n",
    "    i = 0\n",
    "    csv_reader = csv.reader(open(path, encoding='utf-8'))\n",
    "    for row in csv_reader:\n",
    "        i+=1\n",
    "        if i==1:\n",
    "            continue\n",
    "        start = row[5]\n",
    "        end = row[6]\n",
    "        hour = row[7]\n",
    "        \n",
    "        if hour not in hour_node_top_num:\n",
    "            hour_node_top_num[hour] = {}\n",
    "        \n",
    "        if start not in hour_node_top_num[hour]:\n",
    "            hour_node_top_num[hour][start] = {}\n",
    "        \n",
    "        hour_node_top_num[hour][start][end] = hour_node_top_num[hour][start].get(end,0)+1\n",
    "        \n",
    "    for hour in hour_node_top_num:\n",
    "        for start in hour_node_top_num[hour]:\n",
    "            tmp = sorted(hour_node_top_num[hour][start].items(),key = lambda item:item[1],reverse=True)\n",
    "            hour_node_top_num[hour][start] = tmp\n",
    "    return hour_node_top_num"
   ]
  },
  {
   "cell_type": "code",
   "execution_count": 71,
   "metadata": {},
   "outputs": [],
   "source": [
    "hour_node_top_num = get_hour_node_top_num('./data/train_end_geofly.csv')"
   ]
  },
  {
   "cell_type": "code",
   "execution_count": 42,
   "metadata": {},
   "outputs": [],
   "source": [
    "user_used_node = get_user_used_node()\n",
    "\n",
    "node_top_destination = get_node_top_destination('./data/train_hard.csv')"
   ]
  },
  {
   "cell_type": "markdown",
   "metadata": {},
   "source": [
    "## node_top_destination的平均候选点"
   ]
  },
  {
   "cell_type": "code",
   "execution_count": 75,
   "metadata": {
    "collapsed": true
   },
   "outputs": [],
   "source": [
    "def get_mean_node_top_destination(node_top_destination):\n",
    "    \n",
    "    a = []\n",
    "    \n",
    "    start_to_end = {}\n",
    "    for top_num in [3,5,10,20,30,40,50,500000]:\n",
    "        \n",
    "        for start in node_top_destination:\n",
    "            if start not in start_to_end:\n",
    "                start_to_end[start] = set()\n",
    "\n",
    "            temp = node_top_destination.get(start,'')\n",
    "            for k in range(min(top_num,len(temp))):\n",
    "                start_to_end[start].add(temp[k][0])\n",
    "        total = 0\n",
    "        for start in start_to_end:\n",
    "            total += len(start_to_end[start])\n",
    "        a.append(total/len(start_to_end))\n",
    "        print(top_num,total,len(start_to_end),total/len(start_to_end))\n",
    "    for row in a:\n",
    "        print(row)"
   ]
  },
  {
   "cell_type": "code",
   "execution_count": 76,
   "metadata": {},
   "outputs": [
    {
     "name": "stdout",
     "output_type": "stream",
     "text": [
      "3 211792 87270 2.4268591726824797\n",
      "5 309285 87270 3.54400137504297\n",
      "10 496767 87270 5.69229975936748\n",
      "20 746242 87270 8.550956800733356\n",
      "30 901734 87270 10.332691646613958\n",
      "40 1001119 87270 11.471513693136243\n",
      "50 1065576 87270 12.210106565830182\n",
      "500000 1191278 87270 13.650486994385242\n",
      "2.4268591726824797\n",
      "3.54400137504297\n",
      "5.69229975936748\n",
      "8.550956800733356\n",
      "10.332691646613958\n",
      "11.471513693136243\n",
      "12.210106565830182\n",
      "13.650486994385242\n",
      "3 416732 163643 2.546592277090985\n",
      "5 630238 163643 3.8512982529041877\n",
      "10 1077091 163643 6.581955842901927\n",
      "20 1778938 163643 10.870846904542205\n",
      "30 2342283 163643 14.313371179946591\n",
      "40 2819520 163643 17.22970123989416\n",
      "50 3232942 163643 19.756066559522864\n",
      "500000 5698928 163643 34.82536986000012\n",
      "2.546592277090985\n",
      "3.8512982529041877\n",
      "6.581955842901927\n",
      "10.870846904542205\n",
      "14.313371179946591\n",
      "17.22970123989416\n",
      "19.756066559522864\n",
      "34.82536986000012\n",
      "3 261810 87270 3.0\n",
      "5 436350 87270 5.0\n",
      "10 852569 87270 9.769325083075513\n",
      "20 1490845 87270 17.08313280623353\n",
      "30 2021626 87270 23.165188495473817\n",
      "40 2479533 87270 28.412203506359575\n",
      "50 2882619 87270 33.03104159504984\n",
      "500000 5927657 87270 67.9231923914289\n",
      "3.0\n",
      "5.0\n",
      "9.769325083075513\n",
      "17.08313280623353\n",
      "23.165188495473817\n",
      "28.412203506359575\n",
      "33.03104159504984\n",
      "67.9231923914289\n"
     ]
    }
   ],
   "source": [
    "node_top_destination = get_node_top_destination('./data/train_hard.csv')\n",
    "get_mean_node_top_destination(node_top_destination)\n",
    "\n",
    "node_top_destination = get_node_top_destination('./data/train_start_geofly.csv')\n",
    "get_mean_node_top_destination(node_top_destination)\n",
    "\n",
    "node_top_destination = get_node_top_destination('./data/train_end_geofly.csv')\n",
    "get_mean_node_top_destination(node_top_destination)\n"
   ]
  },
  {
   "cell_type": "markdown",
   "metadata": {},
   "source": [
    "## hour_node_top_num的平均候选点"
   ]
  },
  {
   "cell_type": "code",
   "execution_count": 72,
   "metadata": {},
   "outputs": [],
   "source": [
    "def get_mean_hour_node_top_num(hour_node_top_num):\n",
    "    \n",
    "    a = []\n",
    "    \n",
    "    start_to_end = {}\n",
    "    for hour_top_num in [3,5,10,20,30,40,50,500000]:\n",
    "        for hour in hour_node_top_num:\n",
    "            for start in hour_node_top_num[hour]:\n",
    "                if start not in start_to_end:\n",
    "                    start_to_end[start] = set()\n",
    "\n",
    "                temp = hour_node_top_num[hour].get(start,'')\n",
    "                for k in range(min(hour_top_num,len(temp))):\n",
    "                    start_to_end[start].add(temp[k][0])\n",
    "        total = 0\n",
    "        for start in start_to_end:\n",
    "            total += len(start_to_end[start])\n",
    "        a.append(total/len(start_to_end))\n",
    "        print(hour_top_num,total,len(start_to_end),total/len(start_to_end))\n",
    "    for row in a:\n",
    "        print(row)"
   ]
  },
  {
   "cell_type": "code",
   "execution_count": 73,
   "metadata": {},
   "outputs": [
    {
     "name": "stdout",
     "output_type": "stream",
     "text": [
      "3 1401664 87270 16.0612352469348\n",
      "5 2159151 87270 24.741045032657272\n",
      "10 3601746 87270 41.271295977999316\n",
      "20 4683736 87270 53.66948550475536\n",
      "30 5190772 87270 59.47945456628853\n",
      "40 5464698 87270 62.618288071502235\n",
      "50 5626006 87270 64.46666666666667\n",
      "500000 5927657 87270 67.9231923914289\n",
      "16.0612352469348\n",
      "24.741045032657272\n",
      "41.271295977999316\n",
      "53.66948550475536\n",
      "59.47945456628853\n",
      "62.618288071502235\n",
      "64.46666666666667\n",
      "67.9231923914289\n"
     ]
    }
   ],
   "source": [
    "hour_node_top_num = get_hour_node_top_num('./data/train_hard.csv')\n",
    "get_mean_hour_node_top_num(hour_node_top_num)"
   ]
  },
  {
   "cell_type": "code",
   "execution_count": 51,
   "metadata": {},
   "outputs": [
    {
     "name": "stdout",
     "output_type": "stream",
     "text": [
      "0.7376414966833004\n",
      "0.7829043770800463\n",
      "0.8521930898633576\n",
      "0.8974265301179345\n",
      "0.9149501056499647\n",
      "0.9234556303602804\n",
      "0.9280068087019707\n",
      "0.9350483554335127\n"
     ]
    }
   ],
   "source": [
    "node_top_destination = {}\n",
    "computer_coverage(user_used_node,node_top_destination,3,hour_node_top_num,3)\n",
    "computer_coverage(user_used_node,node_top_destination,5,hour_node_top_num,5)\n",
    "computer_coverage(user_used_node,node_top_destination,10,hour_node_top_num,10)\n",
    "computer_coverage(user_used_node,node_top_destination,20,hour_node_top_num,20)\n",
    "computer_coverage(user_used_node,node_top_destination,30,hour_node_top_num,30)\n",
    "computer_coverage(user_used_node,node_top_destination,40,hour_node_top_num,40)\n",
    "computer_coverage(user_used_node,node_top_destination,50,hour_node_top_num,50)\n",
    "computer_coverage(user_used_node,node_top_destination,50000000,hour_node_top_num,50000000)"
   ]
  },
  {
   "cell_type": "code",
   "execution_count": null,
   "metadata": {},
   "outputs": [],
   "source": [
    "total_node = 0\n",
    "for user in user_used_node:\n",
    "    total_node+=len(user_used_node[user])\n",
    "print(total_node/len(user_used_node))\n",
    "total_node = 0\n",
    "for start in node_top_destination:\n",
    "    total_node+=len(node_top_destination[start])\n",
    "print(total_node/len(node_top_destination))"
   ]
  },
  {
   "cell_type": "code",
   "execution_count": null,
   "metadata": {},
   "outputs": [],
   "source": [
    "computer_coverage(user_used_node,node_top_destination,3)\n",
    "computer_coverage(user_used_node,node_top_destination,5)\n",
    "computer_coverage(user_used_node,node_top_destination,10)\n",
    "computer_coverage(user_used_node,node_top_destination,20)\n",
    "computer_coverage(user_used_node,node_top_destination,30)\n",
    "computer_coverage(user_used_node,node_top_destination,40)\n",
    "computer_coverage(user_used_node,node_top_destination,50)\n",
    "computer_coverage(user_used_node,node_top_destination,50000000)"
   ]
  },
  {
   "cell_type": "code",
   "execution_count": null,
   "metadata": {},
   "outputs": [],
   "source": [
    "computer_coverage(user_used_node,node_top_destination,3)\n",
    "computer_coverage(user_used_node,node_top_destination,5)\n",
    "computer_coverage(user_used_node,node_top_destination,10)\n",
    "computer_coverage(user_used_node,node_top_destination,20)\n",
    "computer_coverage(user_used_node,node_top_destination,30)\n",
    "computer_coverage(user_used_node,node_top_destination,40)\n",
    "computer_coverage(user_used_node,node_top_destination,50)\n",
    "computer_coverage(user_used_node,node_top_destination,50000000)"
   ]
  },
  {
   "cell_type": "code",
   "execution_count": null,
   "metadata": {},
   "outputs": [],
   "source": [
    "total_node = 0\n",
    "for user in user_used_node:\n",
    "    total_node+=len(user_used_node[user])\n",
    "print(total_node/len(user_used_node))\n",
    "total_node = 0\n",
    "for start in node_top_destination:\n",
    "    total_node+=len(node_top_destination[start])\n",
    "print(total_node/len(node_top_destination))"
   ]
  },
  {
   "cell_type": "code",
   "execution_count": null,
   "metadata": {
    "collapsed": true
   },
   "outputs": [],
   "source": [
    "with open('./data/temp/Candidate/user_used_node','wb+') as f:\n",
    "    pickle.dump(user_used_node, f, pickle.HIGHEST_PROTOCOL)\n",
    "\n"
   ]
  },
  {
   "cell_type": "code",
   "execution_count": null,
   "metadata": {
    "collapsed": true
   },
   "outputs": [],
   "source": []
  }
 ],
 "metadata": {
  "kernelspec": {
   "display_name": "Python 3",
   "language": "python",
   "name": "python3"
  },
  "language_info": {
   "codemirror_mode": {
    "name": "ipython",
    "version": 3
   },
   "file_extension": ".py",
   "mimetype": "text/x-python",
   "name": "python",
   "nbconvert_exporter": "python",
   "pygments_lexer": "ipython3",
   "version": "3.6.2"
  }
 },
 "nbformat": 4,
 "nbformat_minor": 2
}
